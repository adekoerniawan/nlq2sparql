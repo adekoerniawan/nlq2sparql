{
 "cells": [
  {
   "cell_type": "code",
   "execution_count": 0,
   "metadata": {
    "colab": {},
    "colab_type": "code",
    "id": "G9YxjKIy5LDU"
   },
   "outputs": [],
   "source": [
    "'''\n",
    "This step was just to be able to generate plots when running at colab.research.google.com\n",
    "'''\n",
    "!apt-get -qq install -y graphviz && pip install -q pydot\n",
    "import pydot"
   ]
  },
  {
   "cell_type": "code",
   "execution_count": 14,
   "metadata": {
    "colab": {
     "base_uri": "https://localhost:8080/",
     "height": 119
    },
    "colab_type": "code",
    "id": "u3fFvmBuzR4W",
    "outputId": "f93f8a7c-a0d9-4978-cda8-d1989547ec8c"
   },
   "outputs": [
    {
     "name": "stdout",
     "output_type": "stream",
     "text": [
      "  % Total    % Received % Xferd  Average Speed   Time    Time     Time  Current\n",
      "                                 Dload  Upload   Total   Spent    Left  Speed\n",
      "100 2056k  100 2056k    0     0  8259k      0 --:--:-- --:--:-- --:--:-- 8259k\n",
      "  % Total    % Received % Xferd  Average Speed   Time    Time     Time  Current\n",
      "                                 Dload  Upload   Total   Spent    Left  Speed\n",
      "100  510k  100  510k    0     0  3093k      0 --:--:-- --:--:-- --:--:-- 3093k\n"
     ]
    }
   ],
   "source": [
    "'''\n",
    "Download the data from the AskNowQA space on gitHub\n",
    "This can be skipped if the train-data.json and test-data.json files are already \n",
    "Available locally\n",
    "'''\n",
    "!curl -O 'https://raw.githubusercontent.com/AskNowQA/LC-QuAD/data/train-data.json'\n",
    "!curl -O 'https://raw.githubusercontent.com/AskNowQA/LC-QuAD/data/test-data.json'"
   ]
  },
  {
   "cell_type": "code",
   "execution_count": 77,
   "metadata": {
    "colab": {
     "base_uri": "https://localhost:8080/",
     "height": 136
    },
    "colab_type": "code",
    "id": "ThHK7p6IlIoD",
    "outputId": "8684029d-ee66-438c-f0e4-9b62a182930c"
   },
   "outputs": [
    {
     "name": "stdout",
     "output_type": "stream",
     "text": [
      "\n",
      "Number of records: 5000\n",
      "\n",
      "Sample pair of NLQ and SPARQL:\n",
      "\n",
      "How many movies did Stanley Kubrick direct?\n",
      "SELECT DISTINCT COUNT(?uri) WHERE {?uri <http://dbpedia.org/ontology/director> <http://dbpedia.org/resource/Stanley_Kubrick>  . }\n"
     ]
    }
   ],
   "source": [
    "'''\n",
    "Parse the JSON data, splitting it into . The data source already split the data\n",
    "in to training and test sets; we recombine so that we can perform our own split.\n",
    "\n",
    "Each entry has the following keys:\n",
    "\n",
    "  - _id\n",
    "  - corrected_question\n",
    "  - intermediary_question\n",
    "  - sparql_query\n",
    "  - sparql_template_id\n",
    "\n",
    "We are interested in corrected_question (the NLQ to be translated) and \n",
    "sparql_query (the target for the translations).\n",
    "'''\n",
    "import json\n",
    "\n",
    "with open('train-data.json', 'r', encoding='utf-8') as f:\n",
    "  train_data = json.load(f)\n",
    "\n",
    "with open('test-data.json', 'r', encoding='utf-8') as f:\n",
    "  test_data = json.load(f)\n",
    "  \n",
    "source_data = train_data + test_data  \n",
    "  \n",
    "# quick inspection\n",
    "print('\\nNumber of records: {}'.format(len(source_data)))\n",
    "print('\\nSample pair of NLQ and SPARQL:\\n')\n",
    "print(source_data[0]['corrected_question'])\n",
    "print(source_data[0]['sparql_query'])"
   ]
  },
  {
   "cell_type": "code",
   "execution_count": 78,
   "metadata": {
    "colab": {},
    "colab_type": "code",
    "id": "E--uGeDa8odn"
   },
   "outputs": [],
   "source": [
    "# Split the dataset into the questions (NLQs) and queries (SPARQL)\n",
    "import numpy as np\n",
    "\n",
    "questions = [item['corrected_question'] for item in source_data]\n",
    "queries = [item['sparql_query'] for item in source_data]\n",
    "\n",
    "assert np.shape(questions) == np.shape(queries)"
   ]
  },
  {
   "cell_type": "code",
   "execution_count": 79,
   "metadata": {
    "colab": {
     "base_uri": "https://localhost:8080/",
     "height": 68
    },
    "colab_type": "code",
    "id": "ypQGzDrNnwIf",
    "outputId": "e75604b2-32d7-4085-aba0-e982036da6c5"
   },
   "outputs": [
    {
     "name": "stdout",
     "output_type": "stream",
     "text": [
      "saved clean_questions.pkl\n",
      "saved clean_query_inputs.pkl\n",
      "saved clean_query_outputs.pkl\n"
     ]
    }
   ],
   "source": [
    "'''\n",
    "The questions undergo fuller cleaning than the queries, removing punctuation etc.\n",
    "The queries are already normalized as they are valid SPARQL statements. Two sets\n",
    "are made from the queries:\n",
    "\n",
    "  - input queries, which have a start token prepended to each\n",
    "  - target queries, which have an end token appended to each\n",
    "\n",
    "There are a few SPARQL statements where curly braces don't have spaces between them\n",
    "and neighbouring tokens. We add a space around them if they don't exist.\n",
    "'''\n",
    "from keras.preprocessing.text import text_to_word_sequence\n",
    "from pickle import dump, load\n",
    "import re\n",
    "\n",
    "default_filters = '!\"#$%&()*+,-./:;<=>?@[\\\\]^_`{|}~'\n",
    "START_TOKEN = '<start>'\n",
    "END_TOKEN = '<end>'\n",
    "\n",
    "def load_clean_texts(filename):\n",
    "  with open(filename, 'rb') as f:\n",
    "    content = load(f)\n",
    "    print('loaded {}'.format(filename))\n",
    "    return content\n",
    "\n",
    "def save_texts(texts, filename):\n",
    "  with open(filename, 'wb') as f:\n",
    "    dump(texts, f)\n",
    "    print('saved {}'.format(filename))\n",
    "\n",
    "def separate_special_tokens(text):\n",
    "  text = re.sub(r'([^ ])([{}])', r'\\1 \\2', text)\n",
    "  text = re.sub(r'([{}])([^ ])', r'\\1 \\2', text)\n",
    "  text = re.sub(r'(\\?uri)(\\.)', r'\\1 \\2', text)\n",
    "  return text\n",
    "\n",
    "def clean_texts(texts, filename, filters=default_filters, lower=True, \n",
    "                start_token=None, end_token=None):\n",
    "  texts = [separate_special_tokens(text) for text in texts]\n",
    "  texts = [text_to_word_sequence(text, filters, lower) for text in texts]\n",
    "\n",
    "  if start_token is not None:\n",
    "    texts = [[start_token] + text for text in texts]\n",
    "\n",
    "  if end_token is not None:\n",
    "    texts = [text + [end_token] for text in texts]\n",
    "  \n",
    "  save_texts(texts, filename)\n",
    "\n",
    "clean_questions = clean_texts(questions, filename='clean_questions.pkl')\n",
    "clean_query_inputs = clean_texts(queries, filters='', lower=False, start_token=START_TOKEN,\n",
    "                                 filename='clean_query_inputs.pkl')\n",
    "clean_query_outputs = clean_texts(queries, filters='', lower=False, end_token=END_TOKEN,\n",
    "                                  filename='clean_query_outputs.pkl')\n"
   ]
  },
  {
   "cell_type": "code",
   "execution_count": 80,
   "metadata": {
    "colab": {
     "base_uri": "https://localhost:8080/",
     "height": 747
    },
    "colab_type": "code",
    "id": "-a23H5ys81HZ",
    "outputId": "d0669ac3-1552-4b82-cc2a-10d6bc2367a9"
   },
   "outputs": [
    {
     "name": "stdout",
     "output_type": "stream",
     "text": [
      "loaded clean_questions.pkl\n"
     ]
    },
    {
     "data": {
      "image/png": "[encoded data removed]",
      "text/plain": [
       "<Figure size 432x288 with 1 Axes>"
      ]
     },
     "metadata": {
      "needs_background": "light"
     },
     "output_type": "display_data"
    },
    {
     "name": "stdout",
     "output_type": "stream",
     "text": [
      "loaded clean_query_inputs.pkl\n"
     ]
    },
    {
     "data": {
      "image/png": "[encoded data removed]",
      "text/plain": [
       "<Figure size 432x288 with 1 Axes>"
      ]
     },
     "metadata": {
      "needs_background": "light"
     },
     "output_type": "display_data"
    }
   ],
   "source": [
    "'''\n",
    "We plot the distributions of the words in the questions and queries\n",
    "to understand their different characteristics.\n",
    "'''\n",
    "from collections import Counter\n",
    "from itertools import chain\n",
    "import matplotlib.pyplot as plt\n",
    "\n",
    "def plot_word_occurances(texts):\n",
    "    counter = Counter(chain.from_iterable(texts))\n",
    "    x = np.array(list(counter.values()))\n",
    "    fig, ax = plt.subplots()\n",
    "\n",
    "    logbins = np.logspace(np.log10(1), np.log10(np.max(x)), 20)\n",
    "    ax.hist(x, bins=logbins)\n",
    "\n",
    "    ax.set_yscale('log')\n",
    "    ax.set_ylabel('Number of words')\n",
    "\n",
    "    ax.set_xscale('log')\n",
    "    ax.set_xlabel('Number of occurences')\n",
    "    plt.show()\n",
    "    \n",
    "clean_questions = load_clean_texts('clean_questions.pkl')\n",
    "plot_word_occurances(clean_questions)\n",
    "\n",
    "clean_queries = load_clean_texts('clean_query_inputs.pkl')\n",
    "plot_word_occurances(clean_queries)"
   ]
  },
  {
   "cell_type": "code",
   "execution_count": 19,
   "metadata": {
    "colab": {
     "base_uri": "https://localhost:8080/",
     "height": 272
    },
    "colab_type": "code",
    "id": "X8I1Wg5O81Hd",
    "outputId": "958d1d30-1c20-4a86-873d-4cab7b6e9ac5"
   },
   "outputs": [
    {
     "name": "stdout",
     "output_type": "stream",
     "text": [
      "[('?uri', 11010),\n",
      " ('.', 6465),\n",
      " ('<start>', 5000),\n",
      " ('WHERE', 5000),\n",
      " ('{', 5000),\n",
      " ('}', 5000),\n",
      " ('?x', 4740),\n",
      " ('SELECT', 4632),\n",
      " ('DISTINCT', 4632),\n",
      " ('<http://www.w3.org/1999/02/22-rdf-syntax-ns#type>', 1925),\n",
      " ('COUNT(?uri)', 658),\n",
      " ('ASK', 368),\n",
      " ('<http://dbpedia.org/ontology/TelevisionShow>', 236),\n",
      " ('<http://dbpedia.org/ontology/Person>', 132),\n",
      " ('<http://dbpedia.org/ontology/Film>', 113)]\n"
     ]
    }
   ],
   "source": [
    "'''\n",
    "The NLQs show the expected power law distribution of words - but the \n",
    "SPARQL queries have a set of high-frequency words that don't fit in \n",
    "that distribution. We can see below that those are a mixture of keywords\n",
    "and special tokens, the core \"is a\" predicate:\n",
    "\n",
    "    <http://www.w3.org/1999/02/22-rdf-syntax-ns#type>,\n",
    "\n",
    "plus a few types that were somewhat over-represented in the generation\n",
    "of the queries, such as television shows.\n",
    "'''\n",
    "import pprint\n",
    "\n",
    "query_counter = Counter(chain.from_iterable(clean_queries))\n",
    "top_query_tokens = query_counter.most_common(15)\n",
    "\n",
    "pprint.pprint(top_query_tokens)"
   ]
  },
  {
   "cell_type": "code",
   "execution_count": 0,
   "metadata": {
    "colab": {},
    "colab_type": "code",
    "id": "L3wZ92RoOYML"
   },
   "outputs": [],
   "source": [
    "import string\n",
    "import numpy as np\n",
    "from keras.preprocessing.text import Tokenizer, text_to_word_sequence\n",
    "from keras.preprocessing.sequence import pad_sequences\n",
    "from keras.utils import to_categorical\n",
    "\n",
    "class Encoder:\n",
    "  '''\n",
    "  Class creates a tokenizer used for vectorizing texts. It can also create a one-hot\n",
    "  encoded version of the text vectors, which as the target of the predictions.\n",
    "  '''\n",
    "\n",
    "  def __init__(self, texts):\n",
    "    self.texts = texts\n",
    "    self.tokenizer = Tokenizer()\n",
    "    self.tokenizer.fit_on_texts(self.texts)\n",
    "    self.inverter = dict((v, k) for k, v in self.tokenizer.word_index.items())\n",
    "    self.maxlen = max(len(text) for text in self.texts)\n",
    "    self.vocab_size = len(self.tokenizer.word_index) + 1    \n",
    "    self.report()\n",
    "\n",
    "  def report(self):\n",
    "    print('---')\n",
    "    print('vocab size: {}'.format(self.vocab_size))\n",
    "    print('sequence lengths: {}'.format(self.maxlen))\n",
    "    print('sample: \"{}\"'.format(' '.join(self.texts[100])))\n",
    "    \n",
    "    sample_word = self.texts[0][0]    \n",
    "    hot_encoded_sample_word = self.to_categorical(texts=[sample_word.split()], maxlen=1)\n",
    "    decoded_hot_encoded = self.decode_categorical(one_hot_sequence=hot_encoded_sample_word)\n",
    "    print('decoded encoded sample word: {}'.format(decoded_hot_encoded))\n",
    "  \n",
    "  def encode_text(self, text, pad_to_length):\n",
    "    return self.encode_texts(texts=[text.split()], maxlen=pad_to_length)\n",
    "  \n",
    "  def encode_texts(self, texts, maxlen=None):\n",
    "    if maxlen is None:\n",
    "      maxlen = self.maxlen\n",
    "    sequences = self.tokenizer.texts_to_sequences(texts)\n",
    "    return pad_sequences(sequences, maxlen=maxlen, padding='post')\n",
    "\n",
    "  def encoded(self):\n",
    "    return self.encode_texts(self.texts)\n",
    "\n",
    "  def decode_tokens(self, sequence):\n",
    "    sentence = list()\n",
    "    for token in sequence:\n",
    "      if token == 0:\n",
    "        break\n",
    "      sentence.append(self.inverter[token])\n",
    "    return ' '.join(sentence)\n",
    "\n",
    "  def to_categorical(self, texts, maxlen=None):\n",
    "    encoded = self.encode_texts(texts, maxlen)\n",
    "    categorical = [to_categorical(text, num_classes=self.vocab_size) for text in encoded]\n",
    "    return np.array(categorical).reshape(encoded.shape[0], encoded.shape[1], self.vocab_size)\n",
    "\n",
    "  def categorical_encoded(self):\n",
    "    encoded = self.encoded()\n",
    "    return self.to_categorical(encoded)\n",
    "          \n",
    "  def decode_categorical(self, one_hot_sequence):\n",
    "    sequence = [np.argmax(v) for v in one_hot_sequence]\n",
    "    return self.decode_tokens(sequence)\n",
    "   "
   ]
  },
  {
   "cell_type": "code",
   "execution_count": 0,
   "metadata": {
    "colab": {},
    "colab_type": "code",
    "id": "mJjnOSRgDNTR"
   },
   "outputs": [],
   "source": [
    "from keras.callbacks import ModelCheckpoint\n",
    "from keras.layers import Input, Embedding, LSTM, Dense\n",
    "from keras.models import Model\n",
    "from keras.utils.vis_utils import plot_model\n",
    "from matplotlib import pyplot\n",
    "import re\n",
    "\n",
    "class QuestionToQuery:\n",
    "  '''\n",
    "  Instance of the training + inference models, used as convenience to run \n",
    "  different hyperparameters.\n",
    "  '''\n",
    "\n",
    "  def __init__(self, latent_dim, epochs, batch_size, optimizer, dropout, recurrent_dropout,\n",
    "               questions_vocab_size, query_vocab_size, question_length, query_length):\n",
    "\n",
    "    self.latent_dim = latent_dim\n",
    "    self.epochs = epochs\n",
    "    self.batch_size = batch_size\n",
    "    self.optimizer = optimizer\n",
    "    self.dropout = dropout\n",
    "    self.recurrent_dropout = recurrent_dropout\n",
    "    \n",
    "    self.questions_vocab_size = questions_vocab_size\n",
    "    self.query_vocab_size = query_vocab_size\n",
    "    self.question_length = question_length\n",
    "    self.query_length = query_length\n",
    "    dirty_name = 'model_{}_{}_{}_{}_{}_{}'.format(latent_dim, epochs, batch_size, optimizer,\n",
    "                                                 dropout, recurrent_dropout)\n",
    "    self.name = re.sub(r'\\.', '', dirty_name)\n",
    "    self.init_training_model()\n",
    "    self.init_inference_model()\n",
    "  \n",
    "  def init_training_model(self):\n",
    "    '''\n",
    "    The Training Model trains embedding and LSTM layers, and the encoder state.\n",
    "    '''\n",
    "    self.encoder_inputs = Input(shape=(None,))\n",
    "\n",
    "    x = Embedding(input_dim=self.questions_vocab_size,\n",
    "                  output_dim=self.latent_dim,\n",
    "                  mask_zero=True,\n",
    "                  input_length=self.question_length)\n",
    "    encoder_embedding_outputs = x(self.encoder_inputs)\n",
    "\n",
    "    \n",
    "    x = LSTM(units=self.latent_dim, \n",
    "             return_state=True, \n",
    "             dropout=self.dropout,\n",
    "             recurrent_dropout=self.recurrent_dropout)\n",
    "    _, state_h, state_c = x(encoder_embedding_outputs)\n",
    "    self.encoder_states = [state_h, state_c]\n",
    "\n",
    "    self.decoder_inputs = Input(shape=(None,))\n",
    "    \n",
    "    x = Embedding(input_dim=self.query_vocab_size,\n",
    "                  output_dim=self.latent_dim,\n",
    "                  mask_zero=True,\n",
    "                  input_length=self.query_length)\n",
    "    self.decoder_embedding_outputs = x(self.decoder_inputs)\n",
    "\n",
    "    self.decoder_lstm = LSTM(units=self.latent_dim, return_sequences=True, return_state=True,\n",
    "                             dropout=self.dropout, recurrent_dropout=self.recurrent_dropout)\n",
    "    decoder_lstm_outputs, _, _ = self.decoder_lstm(self.decoder_embedding_outputs, \n",
    "                                                   initial_state=self.encoder_states)\n",
    "    \n",
    "    self.decoder_dense = Dense(units=self.query_vocab_size, activation='softmax')\n",
    "    decoder_outputs = self.decoder_dense(decoder_lstm_outputs)\n",
    "\n",
    "    self.training_model = Model(inputs=[self.encoder_inputs, self.decoder_inputs], \n",
    "                                outputs=decoder_outputs)\n",
    "    self.training_model.compile(optimizer=self.optimizer,\n",
    "                                loss='categorical_crossentropy', \n",
    "                                metrics=['accuracy'])\n",
    "\n",
    "  def init_inference_model(self):\n",
    "    '''\n",
    "    Model for generating predictions of SPARQL queries from questions. Uses inputs from\n",
    "    the training model.\n",
    "    '''\n",
    "    self.encoder_model = Model(inputs=self.encoder_inputs, outputs=self.encoder_states)\n",
    "    encoder_outputs = Input(shape=(None, self.latent_dim))\n",
    "\n",
    "    input_h = Input(shape=(self.latent_dim,))\n",
    "    input_c = Input(shape=(self.latent_dim,))\n",
    "    input_states = [input_h, input_c]\n",
    "\n",
    "    inference_lstm_outputs, inference_h, inference_c = \\\n",
    "      self.decoder_lstm(self.decoder_embedding_outputs, initial_state=input_states)\n",
    "\n",
    "    inference_states = [inference_h, inference_c]\n",
    "    inference_outputs = self.decoder_dense(inference_lstm_outputs)\n",
    "\n",
    "    self.inference_model = Model([self.decoder_inputs] + input_states,\n",
    "                                 [inference_outputs] + inference_states)\n",
    "  \n",
    "  def summary(self):\n",
    "    print(self.training_model.summary())\n",
    "    print(self.encoder_model.summary())\n",
    "    print(self.inference_model.summary())\n",
    "    \n",
    "  def plot_models(self):\n",
    "    plot_model(training_model, to_file='training_model.png', show_shapes=True)    \n",
    "    plot_model(encoder_model, to_file='encoder_model.png', show_shapes=True)    \n",
    "    plot_model(inference_model, to_file='inference_model.png', show_shapes=True)\n",
    "    \n",
    "  def train(self, questions, query_inputs, query_outputs):\n",
    "    assert len(questions) == len(query_inputs)\n",
    "    assert len(query_inputs) == len(query_outputs)\n",
    "    \n",
    "    train_X = [questions, query_inputs]\n",
    "    train_y = query_outputs\n",
    "\n",
    "    checkpoint = ModelCheckpoint('training_{}.h5'.format(self.name), monitor='val_loss', verbose=1, \n",
    "                                 save_best_only=True, mode='min')\n",
    "    self.history = self.training_model.fit(x=train_X, y=train_y, \n",
    "                                           batch_size=self.batch_size, \n",
    "                                           epochs=self.epochs, \n",
    "                                           validation_split=0.1,\n",
    "                                           callbacks=[checkpoint],\n",
    "                                           verbose=2)\n",
    "  \n",
    "  def plot_training(self):\n",
    "    pyplot.plot(self.history.history['loss'])\n",
    "    pyplot.plot(self.history.history['val_loss'])\n",
    "    pyplot.title('Training vs Validation Loss')\n",
    "    pyplot.ylabel('Loss')\n",
    "    pyplot.xlabel('Epoch')\n",
    "    pyplot.legend(['train', 'val'], loc='upper left')\n",
    "    pyplot.savefig('loss_{}'.format(self.name))\n",
    "    pyplot.gcf().clear()\n",
    "\n",
    "    pyplot.plot(self.history.history['acc'])\n",
    "    pyplot.plot(self.history.history['val_acc'])\n",
    "    pyplot.title('Training vs Validation Accuracy')\n",
    "    pyplot.ylabel('Accuracy')\n",
    "    pyplot.xlabel('Epoch')\n",
    "    pyplot.legend(['train', 'val'], loc='upper left')\n",
    "    pyplot.savefig('accuracy_{}'.format(self.name))\n",
    "    pyplot.gcf().clear()\n"
   ]
  },
  {
   "cell_type": "code",
   "execution_count": 0,
   "metadata": {
    "colab": {},
    "colab_type": "code",
    "id": "-P8YrLHjntxw"
   },
   "outputs": [],
   "source": [
    "from nltk.translate.bleu_score import corpus_bleu\n",
    "import json\n",
    "\n",
    "class ModelEvaluation:\n",
    "  '''\n",
    "  Evaluates the inference model using the BLEU score for 1-4 grams. The evaluation\n",
    "  is done comparing predictions from questions to target queries. Also exports \n",
    "  a dump of the actual translations.\n",
    "  '''\n",
    "\n",
    "  def __init__(self, model, query_inputs_encoder, query_outputs_encoder, query_length):\n",
    "    self.model = model\n",
    "    self.query_inputs_encoder = query_inputs_encoder\n",
    "    self.query_outputs_encoder = query_outputs_encoder\n",
    "    self.query_length = query_length\n",
    "\n",
    "  def question_to_query(self, question):\n",
    "    states_value = self.model.encoder_model.predict(question)   \n",
    "    inference_input = self.query_inputs_encoder.encode_text(START_TOKEN, \n",
    "                                                            pad_to_length=self.query_length)\n",
    "    decoded_sentence = list()\n",
    "\n",
    "    while True:\n",
    "      output_tokens, h, c = self.model.inference_model.predict([inference_input, \n",
    "                                                                states_value[0], \n",
    "                                                                states_value[1]])\n",
    "      \n",
    "      decoded_word = self.query_outputs_encoder.decode_categorical(output_tokens)\n",
    "      \n",
    "      if (decoded_word == END_TOKEN or len(decoded_sentence) >= self.query_outputs_encoder.maxlen):\n",
    "        break\n",
    "\n",
    "      decoded_sentence.append(decoded_word)\n",
    "      inference_input = self.query_inputs_encoder.encode_text(decoded_word, \n",
    "                                                              pad_to_length=self.query_length)\n",
    "      states_value = h, c\n",
    "\n",
    "    return decoded_sentence\n",
    "\n",
    "  def predict(self):\n",
    "    target = list()\n",
    "    predicted = list()\n",
    "    for i, question in enumerate(self.questions):\n",
    "      target_query = self.query_outputs_encoder.decode_categorical(self.target_queries[i])\n",
    "      target.append(target_query.split())\n",
    "\n",
    "      predicted_query = self.question_to_query(question)\n",
    "      predicted.append(predicted_query)\n",
    "    return target, predicted\n",
    "\n",
    "  def generate_predictions(self):\n",
    "    self.target, self.predicted = self.predict()\n",
    "    \n",
    "  def dump_predictions(self, filename):\n",
    "    target, predicted = self.predict()\n",
    "    decoded_questions = [questions_encoder.decode_tokens(question) for question in self.questions]  \n",
    "    predictions = [{'question': q, 'target': ' '.join(t), 'predicted': ' '.join(p)} \\\n",
    "                   for q, t, p in zip(decoded_questions, target, predicted)]\n",
    "    \n",
    "    with open(filename, 'w') as f:\n",
    "     json.dump(predictions, f)\n",
    "\n",
    "  def report(self, questions, target_queries, predictions_filename):\n",
    "    self.questions = questions\n",
    "    self.target_queries = target_queries\n",
    "    self.generate_predictions()\n",
    "    self.dump_predictions(predictions_filename)\n",
    "    \n",
    "    bleu_1 = corpus_bleu(self.target, self.predicted, weights=(1.0, 0, 0, 0))\n",
    "    bleu_2 = corpus_bleu(self.target, self.predicted, weights=(0.5, 0.5, 0, 0))\n",
    "    bleu_3 = corpus_bleu(self.target, self.predicted, weights=(0.333, 0.333, 0.333, 0))\n",
    "    bleu_4 = corpus_bleu(self.target, self.predicted, weights=(0.25, 0.25, 0.25, 0.25))\n",
    "\n",
    "    return dict(bleu_1=bleu_1, bleu_2=bleu_2, bleu_3=bleu_3, bleu_4=bleu_4)"
   ]
  },
  {
   "cell_type": "code",
   "execution_count": 0,
   "metadata": {
    "colab": {
     "base_uri": "https://localhost:8080/",
     "height": 513
    },
    "colab_type": "code",
    "id": "yZ2vi_e-ZO2b",
    "outputId": "b152a056-d7c8-4dc1-c88a-a965f968da5e",
    "scrolled": true
   },
   "outputs": [
    {
     "name": "stdout",
     "output_type": "stream",
     "text": [
      "loaded clean_questions.pkl\n",
      "---\n",
      "vocab size: 7116\n",
      "sequence lengths: 25\n",
      "sample: \"who won a norbert wiener award for social and professional responsibility\"\n",
      "decoded encoded sample word: how\n",
      "loaded clean_query_inputs.pkl\n",
      "---\n",
      "vocab size: 4728\n",
      "sequence lengths: 18\n",
      "sample: \"<start> SELECT DISTINCT ?uri WHERE { ?uri <http://dbpedia.org/property/prizes> <http://dbpedia.org/resource/Norbert_Wiener_Award_for_Social_and_Professional_Responsibility> . }\"\n",
      "decoded encoded sample word: <start>\n",
      "loaded clean_query_outputs.pkl\n",
      "---\n",
      "vocab size: 4728\n",
      "sequence lengths: 18\n",
      "sample: \"SELECT DISTINCT ?uri WHERE { ?uri <http://dbpedia.org/property/prizes> <http://dbpedia.org/resource/Norbert_Wiener_Award_for_Social_and_Professional_Responsibility> . } <end>\"\n",
      "decoded encoded sample word: select\n",
      "====================================================================================================\n",
      "Running hyperparameter set: latent_dim: 256, epochs: 100, batch_size: 64, optimizer: rmsprop, dropout: 0.5\n",
      "Train on 4050 samples, validate on 450 samples\n",
      "Epoch 1/100\n",
      " - 87s - loss: 3.9222 - acc: 0.3338 - val_loss: 3.1172 - val_acc: 0.5105\n",
      "\n",
      "Epoch 00001: val_loss improved from inf to 3.11717, saving model to training_model_256_100_64_rmsprop_05_05.h5\n"
     ]
    },
    {
     "name": "stderr",
     "output_type": "stream",
     "text": [
      "/usr/local/lib/python3.6/dist-packages/keras/engine/network.py:877: UserWarning: Layer lstm_14 was passed non-serializable keyword arguments: {'initial_state': [<tf.Tensor 'lstm_13/while/Exit_3:0' shape=(?, 256) dtype=float32>, <tf.Tensor 'lstm_13/while/Exit_4:0' shape=(?, 256) dtype=float32>]}. They will not be included in the serialized model (and thus will be missing at deserialization time).\n",
      "  '. They will not be included '\n"
     ]
    },
    {
     "name": "stdout",
     "output_type": "stream",
     "text": [
      "Epoch 2/100\n"
     ]
    }
   ],
   "source": [
    "'''\n",
    "Runs the training and evaluation, varying the following hyper-parameters:\n",
    "\n",
    "    - number of units\n",
    "    - batch size\n",
    "    - optimizer\n",
    "    - dropout\n",
    "    \n",
    "'''\n",
    "import itertools\n",
    "from sklearn.model_selection import train_test_split\n",
    " \n",
    "clean_questions = load_clean_texts('clean_questions.pkl')\n",
    "questions_encoder = Encoder(clean_questions)\n",
    "encoded_questions = questions_encoder.encode_texts(clean_questions)\n",
    "\n",
    "clean_query_inputs = load_clean_texts('clean_query_inputs.pkl')\n",
    "query_inputs_encoder = Encoder(clean_query_inputs)\n",
    "encoded_query_inputs = query_inputs_encoder.encode_texts(clean_query_inputs)\n",
    "\n",
    "clean_query_outputs = load_clean_texts('clean_query_outputs.pkl')\n",
    "query_outputs_encoder = Encoder(clean_query_outputs)\n",
    "encoded_query_outputs = query_outputs_encoder.to_categorical(clean_query_outputs)\n",
    "\n",
    "questions_train, questions_test, query_inputs_train, query_inputs_test, query_outputs_train, \\\n",
    "  query_outputs_test = train_test_split(encoded_questions, encoded_query_inputs, \n",
    "                                        encoded_query_outputs, test_size=0.1, random_state=9)\n",
    "\n",
    "questions_vocab_size = questions_encoder.vocab_size\n",
    "query_vocab_size = query_inputs_encoder.vocab_size\n",
    "\n",
    "hyperparam_sets = itertools.product([64, 128, 256], [32, 64], ['adam', 'rmsprop'], [0.0, 0.5])\n",
    "epochs = 100\n",
    "\n",
    "for latent_dim, batch_size, optimizer, dropout in hyperparam_sets:\n",
    "  print('=' * 100)\n",
    "  print('Running hyperparameter set: latent_dim: {}, epochs: {}, batch_size: {}, optimizer: {}, dropout: {}'\n",
    "        .format(latent_dim, epochs, batch_size, optimizer, dropout))\n",
    "\n",
    "  model = QuestionToQuery(latent_dim=latent_dim, \n",
    "                          epochs=epochs,\n",
    "                          batch_size=batch_size,\n",
    "                          optimizer=optimizer,\n",
    "                          dropout=dropout, \n",
    "                          recurrent_dropout=dropout,\n",
    "                          questions_vocab_size=questions_vocab_size, \n",
    "                          query_vocab_size=query_vocab_size,\n",
    "                          question_length=questions_encoder.maxlen, \n",
    "                          query_length=query_inputs_encoder.maxlen)\n",
    "\n",
    "  model.train(questions=questions_train, \n",
    "              query_inputs=query_inputs_train,\n",
    "              query_outputs=query_outputs_train)\n",
    "  model.plot_training()\n",
    "\n",
    "  evaluation = ModelEvaluation(model=model,\n",
    "                               query_inputs_encoder=query_inputs_encoder,\n",
    "                               query_outputs_encoder=query_outputs_encoder,\n",
    "                               query_length=query_inputs_encoder.maxlen)\n",
    "  \n",
    "  filename = 'translations_train_{}.json'.format(model.name)\n",
    "  training_bleu_scores = evaluation.report(questions=questions_train, \n",
    "                                           target_queries=query_outputs_train,\n",
    "                                           predictions_filename=filename)\n",
    "  print('Training BLEU scores: {}\\n'.format(training_bleu_scores))\n",
    "  \n",
    "  filename = 'translations_test_{}.json'.format(model.name)\n",
    "  test_bleu_scores = evaluation.report(questions=questions_test, \n",
    "                                       target_queries=query_outputs_test,\n",
    "                                       predictions_filename=filename)\n",
    "  print('Test BLEU scores: {}\\n'.format(test_bleu_scores))"
   ]
  },
  {
   "cell_type": "code",
   "execution_count": 0,
   "metadata": {
    "colab": {},
    "colab_type": "code",
    "id": "sXjkBeEI81Hu",
    "outputId": "4ab7de1e-368b-4298-bed0-6cc733b72030"
   },
   "outputs": [
    {
     "data": {
      "text/plain": [
       "Text(0.5, 0, 'n-gram')"
      ]
     },
     "execution_count": 40,
     "metadata": {
      "tags": []
     },
     "output_type": "execute_result"
    },
    {
     "data": {
      "image/png": "[encoded data removed]",
      "text/plain": [
       "<Figure size 720x360 with 2 Axes>"
      ]
     },
     "metadata": {
      "needs_background": "light",
      "tags": []
     },
     "output_type": "display_data"
    }
   ],
   "source": [
    "'''\n",
    "BLEU scores were consolidated into a single JSON file. \n",
    "We plot them here to compare the performance of a sample\n",
    "of different hyper-parameter sets.\n",
    "'''\n",
    "import json\n",
    "import matplotlib.pyplot as plt\n",
    "\n",
    "bleu_ngrams = list(range(1, 5))\n",
    "fig, ax = plt.subplots(1, 2, sharey=True, figsize=[10, 5])\n",
    "\n",
    "with open('metrics/bleu-scores.json', 'r', encoding='utf-8') as f:\n",
    "  bleu_scores = json.load(f)\n",
    "\n",
    "param_set = list(bleu_scores.keys())\n",
    "\n",
    "for param_set in list(bleu_scores.keys()):\n",
    "    train_scores = list(bleu_scores[param_set]['train'].values())\n",
    "    ax[0].plot(bleu_ngrams, train_scores, label=param_set)\n",
    "    \n",
    "    test_scores = list(bleu_scores[param_set]['test'].values())\n",
    "    ax[1].plot(bleu_ngrams, test_scores, label=param_set)\n",
    "\n",
    "\n",
    "ax[0].legend(loc='upper center', bbox_to_anchor=(0.5, -0.15), title=\"Train datasets\")\n",
    "ax[0].set_ylabel('Score')\n",
    "ax[0].set_xlabel('n-gram')\n",
    "ax[0].set_xticks(bleu_ngrams)\n",
    "\n",
    "ax[1].legend(loc='upper center', bbox_to_anchor=(0.5, -0.15), title=\"Test datasets\")\n",
    "ax[1].set_ylabel('Score')\n",
    "ax[1].set_xlabel('n-gram')\n",
    "ax[1].set_xticks(bleu_ngrams)"
   ]
  }
 ],
 "metadata": {
  "accelerator": "TPU",
  "colab": {
   "collapsed_sections": [],
   "name": "capstone_project.ipynb",
   "provenance": [],
   "version": "0.3.2"
  },
  "kernelspec": {
   "display_name": "tensorflow",
   "language": "python",
   "name": "tensorflow"
  },
  "language_info": {
   "codemirror_mode": {
    "name": "ipython",
    "version": 3
   },
   "file_extension": ".py",
   "mimetype": "text/x-python",
   "name": "python",
   "nbconvert_exporter": "python",
   "pygments_lexer": "ipython3",
   "version": "3.6.6"
  }
 },
 "nbformat": 4,
 "nbformat_minor": 1
}
